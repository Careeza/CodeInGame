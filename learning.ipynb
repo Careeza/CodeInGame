{
 "metadata": {
  "language_info": {
   "codemirror_mode": {
    "name": "ipython",
    "version": 3
   },
   "file_extension": ".py",
   "mimetype": "text/x-python",
   "name": "python",
   "nbconvert_exporter": "python",
   "pygments_lexer": "ipython3",
   "version": "3.9.2"
  },
  "orig_nbformat": 2,
  "kernelspec": {
   "name": "python392jvsc74a57bd0a4b496b8927984d5dc2012657a2db37b47be3697220eb515cae1bd478ef4f6c1",
   "display_name": "Python 3.9.2 64-bit ('upsud': conda)"
  },
  "metadata": {
   "interpreter": {
    "hash": "a4b496b8927984d5dc2012657a2db37b47be3697220eb515cae1bd478ef4f6c1"
   }
  }
 },
 "nbformat": 4,
 "nbformat_minor": 2,
 "cells": [
  {
   "cell_type": "code",
   "execution_count": 17,
   "metadata": {},
   "outputs": [],
   "source": [
    "from sklearn.neural_network import MLPClassifier\n",
    "import numpy as np"
   ]
  },
  {
   "cell_type": "code",
   "execution_count": 200,
   "metadata": {},
   "outputs": [],
   "source": [
    "X = [[0.], [1.], [2.], [3.], [4.], [5.], [6.], [7.], [8.], [9.], [10.], [11.], [12.], [13.], [0.], [1.], [2.], [3.], [4.], [5.], [6.], [7.], [8.], [9.], [10.], [11.], [12.], [13.], [0.], [1.], [2.], [3.], [4.], [5.], [6.], [7.], [8.], [9.], [10.], [11.], [12.], [13.], [0.], [1.], [2.], [3.], [4.], [5.], [6.], [7.], [8.], [9.], [10.], [11.], [12.], [13.]]"
   ]
  },
  {
   "cell_type": "code",
   "execution_count": 210,
   "metadata": {},
   "outputs": [],
   "source": [
    "y = [0, 1, 4, 9, 16, 25, 36, 49, 64, 81, 100, 121, 144, 169, 0, 1, 4, 9, 16, 25, 36, 49, 64, 81, 100, 121, 144, 169, 0, 1, 4, 9, 16, 25, 36, 49, 64, 81, 100, 121, 144, 169, 0, 1, 4, 9, 16, 25, 36, 49, 64, 81, 100, 121, 144, 169]\n"
   ]
  },
  {
   "cell_type": "code",
   "execution_count": 230,
   "metadata": {},
   "outputs": [],
   "source": [
    "clf = MLPClassifier(activation='logistic', solver='sgd', alpha=1e-5, hidden_layer_sizes=(100, 150), random_state=1, max_iter=10000000000)"
   ]
  },
  {
   "cell_type": "code",
   "execution_count": 231,
   "metadata": {},
   "outputs": [
    {
     "output_type": "execute_result",
     "data": {
      "text/plain": [
       "MLPClassifier(activation='logistic', alpha=1e-05, hidden_layer_sizes=(100, 150),\n",
       "              max_iter=10000000000, random_state=1, solver='sgd')"
      ]
     },
     "metadata": {},
     "execution_count": 231
    }
   ],
   "source": [
    "clf.fit(X, y)"
   ]
  },
  {
   "cell_type": "code",
   "execution_count": 232,
   "metadata": {},
   "outputs": [
    {
     "output_type": "execute_result",
     "data": {
      "text/plain": [
       "array([169])"
      ]
     },
     "metadata": {},
     "execution_count": 232
    }
   ],
   "source": [
    "clf.predict([[5]])"
   ]
  },
  {
   "cell_type": "code",
   "execution_count": 233,
   "metadata": {},
   "outputs": [
    {
     "output_type": "execute_result",
     "data": {
      "text/plain": [
       "[(1, 100), (100, 150), (150, 14)]"
      ]
     },
     "metadata": {},
     "execution_count": 233
    }
   ],
   "source": [
    "\n",
    "[coef.shape for coef in clf.coefs_]"
   ]
  },
  {
   "cell_type": "code",
   "execution_count": 234,
   "metadata": {},
   "outputs": [],
   "source": [
    "def sigmoid(x):\n",
    "    return 1/(1 + np.exp(-x))"
   ]
  },
  {
   "cell_type": "code",
   "execution_count": 235,
   "metadata": {},
   "outputs": [],
   "source": [
    "predict = np.array([1])"
   ]
  },
  {
   "cell_type": "code",
   "execution_count": 236,
   "metadata": {},
   "outputs": [
    {
     "output_type": "stream",
     "name": "stdout",
     "text": [
      "0.4911673161129753\n0.47965710758406793\n0.4917933070878001\n0.4707394256261178\n0.49227176874538214\n0.49256315508978943\n0.48442703804059695\n0.48501629721561057\n0.49250405824113674\n0.4894217687157844\n0.48797295971104687\n0.4942774530004544\n0.488595985157825\n0.494512501763846\n13\n"
     ]
    }
   ],
   "source": [
    "maxScore = -10\n",
    "predict = np.array([6])\n",
    "index =0\n",
    "for i in range(3):\n",
    "    predict = sigmoid(predict@clf.coefs_[i] + clf.intercepts_[i])\n",
    "for i, score in enumerate(predict):\n",
    "    if (score> maxScore):\n",
    "        maxScore = score\n",
    "        index = i\n",
    "    print (score)\n",
    "print (index)"
   ]
  },
  {
   "cell_type": "code",
   "execution_count": 126,
   "metadata": {},
   "outputs": [],
   "source": [
    " "
   ]
  },
  {
   "cell_type": "code",
   "execution_count": 158,
   "metadata": {},
   "outputs": [],
   "source": [
    " "
   ]
  },
  {
   "cell_type": "code",
   "execution_count": null,
   "metadata": {},
   "outputs": [],
   "source": []
  },
  {
   "cell_type": "code",
   "execution_count": null,
   "metadata": {},
   "outputs": [],
   "source": []
  }
 ]
}